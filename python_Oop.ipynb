{
 "cells": [
  {
   "cell_type": "code",
   "execution_count": 1,
   "id": "significant-showcase",
   "metadata": {},
   "outputs": [
    {
     "name": "stdout",
     "output_type": "stream",
     "text": [
      "r.__dict__ = {'number': '10-232-1412', 'manufacturer': 'honhai', 'resistance': 10}\n"
     ]
    }
   ],
   "source": [
    "#class\n",
    "\n",
    "class Resistor:\n",
    "    def __init__(self, number, manufacturer, resistance):\n",
    "        self.number = number\n",
    "        self.manufacturer = manufacturer\n",
    "        self.resistance = resistance\n",
    "\n",
    "r = Resistor('10-232-1412', 'honhai', 10)\n",
    "print(f'{r.__dict__ = }')"
   ]
  },
  {
   "cell_type": "code",
   "execution_count": 2,
   "id": "beginning-maintenance",
   "metadata": {},
   "outputs": [
    {
     "name": "stdout",
     "output_type": "stream",
     "text": [
      "48 = \n"
     ]
    }
   ],
   "source": [
    "# lets look at the size of the object\n",
    "# no need to define it again. I am just following him with running with current line\n",
    "class Resistor:\n",
    "    def __init__(self, number, manufacturer, resistance):\n",
    "        self.number = number\n",
    "        self.manufacturer = manufacturer\n",
    "        self.resistance = resistance\n",
    "\n",
    "from sys import getsizeof\n",
    "print(f'{getsizeof(Resistor(None, None, None))} = ')\n"
   ]
  },
  {
   "cell_type": "code",
   "execution_count": null,
   "id": "double-spider",
   "metadata": {},
   "outputs": [],
   "source": []
  }
 ],
 "metadata": {
  "kernelspec": {
   "display_name": "Python 3",
   "language": "python",
   "name": "python3"
  },
  "language_info": {
   "codemirror_mode": {
    "name": "ipython",
    "version": 3
   },
   "file_extension": ".py",
   "mimetype": "text/x-python",
   "name": "python",
   "nbconvert_exporter": "python",
   "pygments_lexer": "ipython3",
   "version": "3.8.5"
  }
 },
 "nbformat": 4,
 "nbformat_minor": 5
}
